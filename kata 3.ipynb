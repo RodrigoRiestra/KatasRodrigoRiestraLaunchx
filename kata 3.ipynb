{
 "cells": [
  {
   "cell_type": "markdown",
   "metadata": {},
   "source": [
    "## Ejercicio - Escribir declaraciones if, else, y elif"
   ]
  },
  {
   "cell_type": "markdown",
   "metadata": {},
   "source": [
    "## Problema 1"
   ]
  },
  {
   "cell_type": "code",
   "execution_count": 5,
   "metadata": {},
   "outputs": [
    {
     "name": "stdout",
     "output_type": "stream",
     "text": [
      "¡Alerta! ¡Un asteroide se acerca!\n"
     ]
    }
   ],
   "source": [
    "asteroide = 49\n",
    "if asteroide > 25:\n",
    "    print('¡Alerta! ¡Un asteroide se acerca!')\n",
    "else:\n",
    "    print('!Sigue con tu dia!')"
   ]
  },
  {
   "cell_type": "markdown",
   "metadata": {},
   "source": [
    "## Problema No. 2"
   ]
  },
  {
   "cell_type": "code",
   "execution_count": 6,
   "metadata": {},
   "outputs": [
    {
     "name": "stdout",
     "output_type": "stream",
     "text": [
      "nada que ver aqui\n"
     ]
    }
   ],
   "source": [
    "asteroide = 19\n",
    "if asteroide > 20:\n",
    "    print('Look up! !hay una luz magica en el cielo')\n",
    "elif asteroide == 20:\n",
    "    print('Look up! !hay una luz magica en el cielo')\n",
    "else:\n",
    "    print('nada que ver aqui')"
   ]
  },
  {
   "cell_type": "markdown",
   "metadata": {},
   "source": [
    "## Problema No. 3"
   ]
  },
  {
   "cell_type": "code",
   "execution_count": 7,
   "metadata": {},
   "outputs": [
    {
     "name": "stdout",
     "output_type": "stream",
     "text": [
      "!hay una luz magica en el cielo!\n"
     ]
    }
   ],
   "source": [
    "velocidad_asteroide = 25\n",
    "tamaño_asteroide = 40\n",
    "if velocidad_asteroide > 25 and tamaño_asteroide > 25:\n",
    "    print('!alerta, un asteroide muy peligroso viene hacia la tierra!')\n",
    "elif velocidad_asteroide >= 20:\n",
    "    print('!hay una luz magica en el cielo!')\n",
    "elif tamaño_asteroide <25:\n",
    "    print('!nada que ver aqui¡')\n",
    "else:\n",
    "    print('!nada que ver aqui¡')"
   ]
  },
  {
   "cell_type": "markdown",
   "metadata": {},
   "source": [
    "hola Fer espero se encuntre bien shepart en estos ejercicios en particular no entendi muy bien, transcribi las soluciones para enteder un poco mas, me dare a la tarea de estudiar nuevamente el live de 9/02/2022 \n",
    "\n",
    "gracias por explicar tan bien, le envio un saludo :)"
   ]
  }
 ],
 "metadata": {
  "interpreter": {
   "hash": "92263db689b15f21d8cc2daa6ff2cfd2e2a381567d88c710b2ea680291952ad3"
  },
  "kernelspec": {
   "display_name": "Python 3.10.2 64-bit (windows store)",
   "language": "python",
   "name": "python3"
  },
  "language_info": {
   "codemirror_mode": {
    "name": "ipython",
    "version": 3
   },
   "file_extension": ".py",
   "mimetype": "text/x-python",
   "name": "python",
   "nbconvert_exporter": "python",
   "pygments_lexer": "ipython3",
   "version": "3.10.2"
  },
  "orig_nbformat": 4
 },
 "nbformat": 4,
 "nbformat_minor": 2
}
